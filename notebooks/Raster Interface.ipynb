{
 "cells": [
  {
   "cell_type": "markdown",
   "metadata": {},
   "source": [
    "### Raster Interface \n",
    "\n",
    "This notebook will give an overview of the newly added functionality for Raster Interface"
   ]
  },
  {
   "cell_type": "code",
   "execution_count": 1,
   "metadata": {},
   "outputs": [],
   "source": [
    "%matplotlib inline\n",
    "\n",
    "from libpysal.weights import Rook, Queen, KNN\n",
    "from libpysal.weights import raster\n",
    "import numpy as np\n",
    "import xarray as xr\n",
    "import pandas as pd\n",
    "from esda import Moran_Local"
   ]
  },
  {
   "cell_type": "markdown",
   "metadata": {},
   "source": [
    "Right now only `xarray.DataArray` is supported, therefore we'll use `open_rasterio`method to access the raster. Since the this method is built on top of `rasterio` hence file type compatibilty of this method is similar to that of `rasterio`. "
   ]
  },
  {
   "cell_type": "code",
   "execution_count": 2,
   "metadata": {},
   "outputs": [
    {
     "data": {
      "text/plain": [
       "(1, 100, 50)"
      ]
     },
     "execution_count": 2,
     "metadata": {},
     "output_type": "execute_result"
    }
   ],
   "source": [
    "# Loading raster data with missing values\n",
    "da1 = xr.open_rasterio('nasadem_sd.tif')\n",
    "# Slicing the dataarray\n",
    "da1 = da1[:, 0:100, 350:400]\n",
    "da1.shape"
   ]
  },
  {
   "cell_type": "code",
   "execution_count": 3,
   "metadata": {
    "tags": []
   },
   "outputs": [
    {
     "data": {
      "text/plain": [
       "<matplotlib.collections.QuadMesh at 0x7f321c58f310>"
      ]
     },
     "execution_count": 3,
     "metadata": {},
     "output_type": "execute_result"
    },
    {
     "data": {
      "image/png": "[encoded data removed]",
      "text/plain": [
       "<Figure size 432x288 with 2 Axes>"
      ]
     },
     "metadata": {
      "needs_background": "light"
     },
     "output_type": "display_data"
    }
   ],
   "source": [
    "# ploting dataarray after removing missing values\n",
    "da1.where(da1.data>da1.attrs[\"nodatavals\"]).plot()"
   ]
  },
  {
   "cell_type": "markdown",
   "metadata": {},
   "source": [
    "We can use `from_xarray` method from the contiguity classes like `Rook` and `Queen`, and also from `KNN`.\n",
    "\n",
    "This uses a util function in raster file called `da2W`, which can also be called directly to build `W` object, similarly `da2WSP` for building `WSP` object"
   ]
  },
  {
   "cell_type": "code",
   "execution_count": 4,
   "metadata": {
    "tags": []
   },
   "outputs": [
    {
     "name": "stdout",
     "output_type": "stream",
     "text": [
      "Help on method from_xarray in module libpysal.weights.contiguity:\n",
      "\n",
      "from_xarray(da, band=None, sparse=False, **kwargs) method of builtins.type instance\n",
      "    Construct a weights object from a xarray DataArray.\n",
      "    \n",
      "    Parameters\n",
      "    ----------\n",
      "    da : xarray.DataArray\n",
      "        raster file accessed using xarray.open_rasterio method\n",
      "    band : int\n",
      "        select band for raster with multiple bands\n",
      "    sparse : boolean\n",
      "        type of weight object. Default is dense. For sparse, sparse = True\n",
      "    **kwargs : keyword arguments\n",
      "        optional arguments passed when sparse = False \n",
      "    \n",
      "    Returns\n",
      "    -------\n",
      "    w : libpysal.weights.W/libpysal.weights.WSP\n",
      "    instance of spatial weights class W or WSP\n",
      "    \n",
      "    See Also\n",
      "    --------\n",
      "    :class:`libpysal.weights.weights.W`\n",
      "    :class:`libpysal.weights.weights.WSP`\n",
      "\n"
     ]
    }
   ],
   "source": [
    "# Let's check the method first\n",
    "help(Rook.from_xarray)"
   ]
  },
  {
   "cell_type": "code",
   "execution_count": 5,
   "metadata": {},
   "outputs": [],
   "source": [
    "# Creating weight of object from raster\n",
    "w_rook = Rook.from_xarray(da1)"
   ]
  },
  {
   "cell_type": "markdown",
   "metadata": {},
   "source": [
    "Lets check the index attributes added to the `W` object "
   ]
  },
  {
   "cell_type": "code",
   "execution_count": 6,
   "metadata": {},
   "outputs": [
    {
     "data": {
      "text/plain": [
       "MultiIndex([(1, 33.505, -117.50944444444444),\n",
       "            (1, 33.505, -117.50916666666666),\n",
       "            (1, 33.505, -117.50888888888889),\n",
       "            (1, 33.505, -117.50861111111111),\n",
       "            (1, 33.505, -117.50833333333333)],\n",
       "           names=['band', 'y', 'x'])"
      ]
     },
     "execution_count": 6,
     "metadata": {},
     "output_type": "execute_result"
    }
   ],
   "source": [
    "# coords contains the multi-indices of non-missing data values \n",
    "w_rook.index[:5]"
   ]
  },
  {
   "cell_type": "markdown",
   "metadata": {},
   "source": [
    "Here we first convert the `DataArray` to `Series` and then use the indices from `index` attribute to remove missing values by subsetting the `Series` "
   ]
  },
  {
   "cell_type": "code",
   "execution_count": 7,
   "metadata": {},
   "outputs": [
    {
     "data": {
      "text/plain": [
       "band  y       x          \n",
       "1     33.505  -117.509444    256\n",
       "              -117.509167    261\n",
       "              -117.508889    263\n",
       "              -117.508611    263\n",
       "              -117.508333    264\n",
       "dtype: int16"
      ]
     },
     "execution_count": 7,
     "metadata": {},
     "output_type": "execute_result"
    }
   ],
   "source": [
    "# Loading the raster data for further calculation\n",
    "data1 = da1.to_series()[w_rook.index]\n",
    "data1[:5]"
   ]
  },
  {
   "cell_type": "code",
   "execution_count": 8,
   "metadata": {},
   "outputs": [],
   "source": [
    "# Quickly computing and loading a LISA\n",
    "np.random.seed(12345)\n",
    "lisa = Moran_Local(data1,w_rook)"
   ]
  },
  {
   "cell_type": "markdown",
   "metadata": {},
   "source": [
    "`to_xarray` is an instance method of `W` object which converts the `W` object back to `DataArray`, we can also use `w2da` function directly to do the same."
   ]
  },
  {
   "cell_type": "code",
   "execution_count": 9,
   "metadata": {
    "tags": []
   },
   "outputs": [
    {
     "name": "stdout",
     "output_type": "stream",
     "text": [
      "Help on method to_xarray in module libpysal.weights.weights:\n",
      "\n",
      "to_xarray(data, attrs={}, coords=None) method of libpysal.weights.weights.W instance\n",
      "    Creates DataArray object from passed data\n",
      "    \n",
      "    Parameters\n",
      "    ---------\n",
      "    data : array/list\n",
      "        numpy 1d array or list with dimensionality conforming to w\n",
      "    attrs : Dictionary\n",
      "        Attributes stored in dict related to DataArray e.g. da.attrs\n",
      "    coords : Dictionary/xarray.core.coordinates.DataArrayCoordinates\n",
      "        coordinates corresponding to DataArray e.g. da.coords\n",
      "    \n",
      "    Returns\n",
      "    -------\n",
      "    da : xarray.DataArray\n",
      "        instance of xarray.DataArray\n",
      "\n"
     ]
    }
   ],
   "source": [
    "# Let's check the method first\n",
    "help(w_rook.to_xarray)"
   ]
  },
  {
   "cell_type": "code",
   "execution_count": 10,
   "metadata": {},
   "outputs": [
    {
     "name": "stdout",
     "output_type": "stream",
     "text": [
      "<xarray.DataArray (band: 1, y: 100, x: 50)>\n",
      "array([[[-1.   , -1.   , -1.   , ...,  0.072,  0.066,  0.133],\n",
      "        [-1.   , -1.   , -1.   , ...,  0.054,  0.063,  0.108],\n",
      "        [-1.   , -1.   , -1.   , ...,  0.084,  0.115,  0.187],\n",
      "        ...,\n",
      "        [-1.   , -1.   , -1.   , ...,  0.001,  0.001,  0.001],\n",
      "        [-1.   , -1.   , -1.   , ...,  0.001,  0.001,  0.001],\n",
      "        [-1.   , -1.   , -1.   , ...,  0.001,  0.001,  0.001]]])\n",
      "Coordinates:\n",
      "  * band     (band) int64 1\n",
      "  * y        (y) float64 33.48 33.48 33.48 33.48 33.48 ... 33.5 33.5 33.5 33.51\n",
      "  * x        (x) float64 -117.5 -117.5 -117.5 -117.5 ... -117.5 -117.5 -117.5\n",
      "Attributes:\n",
      "    nodatavals:  (-1,)\n"
     ]
    }
   ],
   "source": [
    "# Converting obtained data back to DataArray\n",
    "moran_da1 = w_rook.to_xarray(lisa.p_sim)\n",
    "print(moran_da1)"
   ]
  },
  {
   "cell_type": "code",
   "execution_count": 11,
   "metadata": {},
   "outputs": [
    {
     "data": {
      "text/plain": [
       "<matplotlib.collections.QuadMesh at 0x7f321afab0d0>"
      ]
     },
     "execution_count": 11,
     "metadata": {},
     "output_type": "execute_result"
    },
    {
     "data": {
      "image/png": "[encoded data removed]",
      "text/plain": [
       "<Figure size 432x288 with 2 Axes>"
      ]
     },
     "metadata": {
      "needs_background": "light"
     },
     "output_type": "display_data"
    }
   ],
   "source": [
    "# Plotting the converted DataArray\n",
    "moran_da1.where(moran_da1.data>0).plot()"
   ]
  },
  {
   "cell_type": "markdown",
   "metadata": {},
   "source": [
    "Will perform similar operations with different data, we'll see another way we can use build to perform same operations"
   ]
  },
  {
   "cell_type": "code",
   "execution_count": 12,
   "metadata": {},
   "outputs": [
    {
     "data": {
      "text/plain": [
       "(3, 100, 50)"
      ]
     },
     "execution_count": 12,
     "metadata": {},
     "output_type": "execute_result"
    }
   ],
   "source": [
    "# Lets load a different raster data with multiple bands \n",
    "da2 = xr.open_rasterio('HARV_RGB_Ortho.tif')\n",
    "# Slicing the dataarray\n",
    "da2 = da2[:, 0:100, 350:400]\n",
    "da2.shape"
   ]
  },
  {
   "cell_type": "markdown",
   "metadata": {},
   "source": [
    "This time we'll directly create weights without calling the builders from contiguity class, but we need to specify which contiguity to build"
   ]
  },
  {
   "cell_type": "code",
   "execution_count": 13,
   "metadata": {},
   "outputs": [
    {
     "name": "stderr",
     "output_type": "stream",
     "text": [
      "/data/GSoC/libpysal/libpysal/weights/raster.py:149: UserWarning: Multiple bands detected in da. Using band 1 as default band\n",
      "  warn('Multiple bands detected in da. Using band 1 as default band')\n"
     ]
    }
   ],
   "source": [
    "wsp_queen = raster.da2WSP(da2, \"queen\")"
   ]
  },
  {
   "cell_type": "markdown",
   "metadata": {},
   "source": [
    " Now instead of using `lisa` will store back a `pandas.Series` containing random values to the `DataArray`."
   ]
  },
  {
   "cell_type": "code",
   "execution_count": 14,
   "metadata": {},
   "outputs": [],
   "source": [
    "ser = pd.Series(np.random.randint(0,9, len(wsp_queen.index)))"
   ]
  },
  {
   "cell_type": "code",
   "execution_count": 15,
   "metadata": {},
   "outputs": [
    {
     "name": "stdout",
     "output_type": "stream",
     "text": [
      "<xarray.DataArray (band: 1, y: 100, x: 50)>\n",
      "array([[[4, 8, 4, ..., 1, 4, 4],\n",
      "        [4, 4, 1, ..., 4, 4, 3],\n",
      "        [0, 0, 0, ..., 7, 1, 4],\n",
      "        ...,\n",
      "        [1, 5, 1, ..., 1, 2, 8],\n",
      "        [0, 3, 0, ..., 0, 5, 4],\n",
      "        [4, 5, 2, ..., 5, 7, 1]]])\n",
      "Coordinates:\n",
      "  * band     (band) int64 1\n",
      "  * y        (y) float64 4.714e+06 4.714e+06 4.714e+06 ... 4.714e+06 4.714e+06\n",
      "  * x        (x) float64 7.321e+05 7.321e+05 7.321e+05 ... 7.321e+05 7.321e+05\n"
     ]
    }
   ],
   "source": [
    "# Converting obtained data back to DataArray\n",
    "ser_da1 = raster.w2da(ser, wsp_queen)\n",
    "print(ser_da1)"
   ]
  },
  {
   "cell_type": "code",
   "execution_count": 16,
   "metadata": {},
   "outputs": [
    {
     "data": {
      "text/plain": [
       "<matplotlib.collections.QuadMesh at 0x7f321b48c150>"
      ]
     },
     "execution_count": 16,
     "metadata": {},
     "output_type": "execute_result"
    },
    {
     "data": {
      "image/png": "[encoded data removed]",
      "text/plain": [
       "<Figure size 432x288 with 2 Axes>"
      ]
     },
     "metadata": {
      "needs_background": "light"
     },
     "output_type": "display_data"
    }
   ],
   "source": [
    "# Plotting the converted DataArray\n",
    "ser_da1.plot()"
   ]
  },
  {
   "cell_type": "markdown",
   "metadata": {},
   "source": [
    "To save some time we can use the metadata of the original `DataArray` to build the new `DataArray` much faster"
   ]
  },
  {
   "cell_type": "code",
   "execution_count": 17,
   "metadata": {},
   "outputs": [
    {
     "name": "stdout",
     "output_type": "stream",
     "text": [
      "<xarray.DataArray (band: 1, y: 100, x: 50)>\n",
      "array([[[4, 8, 4, ..., 1, 4, 4],\n",
      "        [4, 4, 1, ..., 4, 4, 3],\n",
      "        [0, 0, 0, ..., 7, 1, 4],\n",
      "        ...,\n",
      "        [1, 5, 1, ..., 1, 2, 8],\n",
      "        [0, 3, 0, ..., 0, 5, 4],\n",
      "        [4, 5, 2, ..., 5, 7, 1]]])\n",
      "Coordinates:\n",
      "  * band     (band) int64 1\n",
      "  * y        (y) float64 33.51 33.5 33.5 33.5 33.5 ... 33.48 33.48 33.48 33.48\n",
      "  * x        (x) float64 -117.5 -117.5 -117.5 -117.5 ... -117.5 -117.5 -117.5\n",
      "Attributes:\n",
      "    transform:      (0.0002777777777777778, 0.0, -117.61125, 0.0, -0.00027777...\n",
      "    crs:            +init=epsg:4326\n",
      "    res:            (0.0002777777777777778, 0.0002777777777777778)\n",
      "    is_tiled:       0\n",
      "    nodatavals:     (-32768.0,)\n",
      "    scales:         (1.0,)\n",
      "    offsets:        (0.0,)\n",
      "    AREA_OR_POINT:  Area\n"
     ]
    }
   ],
   "source": [
    "# Converting obtained data back to DataArray\n",
    "ser_da1 = raster.w2da(ser, wsp_queen, da1.attrs, da1.coords)\n",
    "print(ser_da1)"
   ]
  }
 ],
 "metadata": {
  "kernelspec": {
   "display_name": "Python 3",
   "language": "python",
   "name": "python3"
  },
  "language_info": {
   "codemirror_mode": {
    "name": "ipython",
    "version": 3
   },
   "file_extension": ".py",
   "mimetype": "text/x-python",
   "name": "python",
   "nbconvert_exporter": "python",
   "pygments_lexer": "ipython3",
   "version": "3.7.6"
  }
 },
 "nbformat": 4,
 "nbformat_minor": 4
}

{
 "cells": [
  {
   "cell_type": "code",
   "execution_count": 1,
   "metadata": {},
   "outputs": [
    {
     "data": {
      "text/plain": [
       "{'wmat': {name:wmat},\n",
       " 'stl': {name:stl},\n",
       " 'taz': {name:taz},\n",
       " 'tokyo': {name:tokyo},\n",
       " 'georgia': {name:georgia},\n",
       " 'nyc_bikes': {name:nyc_bikes},\n",
       " 'calemp': {name:calemp},\n",
       " 'snow_maps': {name:snow_maps},\n",
       " '__pycache__': {name:__pycache__},\n",
       " 'tests': {name:tests},\n",
       " 'networks': {name:networks},\n",
       " '10740': {name:10740},\n",
       " 'guerry': {name:guerry},\n",
       " 'Polygon': {name:Polygon},\n",
       " 'book': {name:book},\n",
       " 'desmith': {name:desmith},\n",
       " 'virginia': {name:virginia},\n",
       " 'chicago': {name:chicago},\n",
       " 'berlin': {name:berlin},\n",
       " 'street_net_pts': {name:street_net_pts},\n",
       " 'burkitt': {name:burkitt},\n",
       " 'Polygon_Holes': {name:Polygon_Holes},\n",
       " 'columbus': {name:columbus},\n",
       " 'mexico': {name:mexico},\n",
       " 'newHaven': {name:newHaven},\n",
       " 'baltim': {name:baltim},\n",
       " 'Point': {name:Point},\n",
       " 'clearwater': {name:clearwater},\n",
       " 'arcgis': {name:arcgis},\n",
       " 'sacramento2': {name:sacramento2},\n",
       " 'Line': {name:Line},\n",
       " 'juvenile': {name:juvenile},\n",
       " 'us_income': {name:us_income},\n",
       " 'geodanet': {name:geodanet},\n",
       " 'sids2': {name:sids2},\n",
       " 'rio_grande_do_sul': {name:rio_grande_do_sul}}"
      ]
     },
     "execution_count": 1,
     "metadata": {},
     "output_type": "execute_result"
    }
   ],
   "source": [
    "import libpysal\n",
    "\n",
    "libpysal.examples.data_sets"
   ]
  },
  {
   "cell_type": "code",
   "execution_count": 2,
   "metadata": {},
   "outputs": [],
   "source": [
    "data_sets = libpysal.examples.data_sets"
   ]
  },
  {
   "cell_type": "code",
   "execution_count": 3,
   "metadata": {},
   "outputs": [],
   "source": [
    "baltim = data_sets['baltim']"
   ]
  },
  {
   "cell_type": "code",
   "execution_count": 4,
   "metadata": {},
   "outputs": [
    {
     "name": "stdout",
     "output_type": "stream",
     "text": [
      "None\n"
     ]
    }
   ],
   "source": [
    "print(baltim.description)"
   ]
  },
  {
   "cell_type": "code",
   "execution_count": 5,
   "metadata": {},
   "outputs": [
    {
     "name": "stdout",
     "output_type": "stream",
     "text": [
      "No description.\n",
      "No description.\n",
      "taz\n",
      "===\n",
      "\n",
      "Dataset used for regionalization\n",
      "--------------------------------\n",
      "\n",
      "* taz.dbf: attribute data. (k=14)\n",
      "* taz.shp: Polygon shapefile. (n=4109)\n",
      "* taz.shx: spatial index.\n",
      "\n",
      "No description.\n",
      "No description.\n",
      "No description.\n",
      "calemp\n",
      "======\n",
      "\n",
      "Employment density for California counties\n",
      "------------------------------------------\n",
      "\n",
      "* calempdensity.csv: data on employment and employment density in California\n",
      "  counties. (n=58, k=11)\n",
      "\n",
      "Source: Anselin, L. and S.J. Rey (in progress) Spatial Econometrics: Foundations.\n",
      "\n",
      "\n",
      "\n",
      "\n",
      "No description.\n",
      "No description.\n",
      "No description.\n",
      "No description.\n",
      "No description.\n",
      "No description.\n",
      "No description.\n",
      "book\n",
      "====\n",
      "\n",
      "Synthetic data to illustrate spatial weights \n",
      "--------------------------------------------\n",
      "\n",
      "* book.gal: rook contiguity weights in GAL format for regular lattice.\n",
      "* book.txt: attribute data for regular lattice.\n",
      "\n",
      "Source: Anselin, L. and S.J. Rey (in progress) Spatial Econometrics: Foundations.\n",
      "\n",
      "No description.\n",
      "No description.\n",
      "No description.\n",
      "No description.\n",
      "No description.\n",
      "No description.\n",
      "No description.\n",
      "No description.\n",
      "No description.\n",
      "No description.\n",
      "No description.\n",
      "No description.\n",
      "No description.\n",
      "arcgis\n",
      "======\n",
      "\n",
      "arcgis testing files\n",
      "--------------------\n",
      "\n",
      "* arcgis_ohio.dbf: spatial weights in ArcGIS DBF format.\n",
      "* arcgis_txt.txt: spatial weights in ArcGIS TXT format.\n",
      "\n",
      "Files used for internal testing.\n",
      "\n",
      "No description.\n",
      "Line\n",
      "=====\n",
      "\n",
      "Line Shapefile\n",
      "---------------\n",
      "\n",
      "* Line.dbf: attribute data. (k=3)\n",
      "* Line.prj: ESRI projection file. \n",
      "* Line.shp: Line shapefile. (n=4)\n",
      "* Line.shx: spatial index.\n",
      "\n",
      "Used for testing.\n",
      "\n",
      "No description.\n",
      "No description.\n",
      "No description.\n",
      "No description.\n",
      "No description.\n"
     ]
    }
   ],
   "source": [
    "for data_set in data_sets:\n",
    "    print(data_sets[data_set])"
   ]
  },
  {
   "cell_type": "code",
   "execution_count": 6,
   "metadata": {},
   "outputs": [],
   "source": [
    "from libpysal.examples import nat"
   ]
  },
  {
   "cell_type": "code",
   "execution_count": null,
   "metadata": {},
   "outputs": [
    {
     "name": "stdout",
     "output_type": "stream",
     "text": [
      "downloading dataset from https://s3.amazonaws.com/geoda/data/ncovr.zip to /home/jovyan/pysal_data\n"
     ]
    }
   ],
   "source": [
    "nat.fetch_nat()"
   ]
  },
  {
   "cell_type": "code",
   "execution_count": null,
   "metadata": {},
   "outputs": [],
   "source": [
    "from libpysal.examples import DataSet"
   ]
  },
  {
   "cell_type": "code",
   "execution_count": null,
   "metadata": {},
   "outputs": [],
   "source": [
    "len(libpysal.examples.data_sets)"
   ]
  },
  {
   "cell_type": "code",
   "execution_count": null,
   "metadata": {},
   "outputs": [],
   "source": [
    "nyc = DataSet('nyc')"
   ]
  },
  {
   "cell_type": "code",
   "execution_count": null,
   "metadata": {},
   "outputs": [],
   "source": [
    "len(libpysal.examples.data_sets)"
   ]
  },
  {
   "cell_type": "code",
   "execution_count": null,
   "metadata": {},
   "outputs": [],
   "source": [
    "print(nyc)"
   ]
  },
  {
   "cell_type": "markdown",
   "metadata": {},
   "source": [
    "## Now try again"
   ]
  },
  {
   "cell_type": "code",
   "execution_count": null,
   "metadata": {},
   "outputs": [],
   "source": [
    "nat.fetch_nat()"
   ]
  },
  {
   "cell_type": "code",
   "execution_count": null,
   "metadata": {},
   "outputs": [],
   "source": [
    "from os import environ"
   ]
  },
  {
   "cell_type": "code",
   "execution_count": null,
   "metadata": {},
   "outputs": [],
   "source": [
    "environ.get(\"PYSALDATA\")"
   ]
  },
  {
   "cell_type": "code",
   "execution_count": null,
   "metadata": {},
   "outputs": [],
   "source": [
    "nat = DataSet('nat')"
   ]
  },
  {
   "cell_type": "code",
   "execution_count": null,
   "metadata": {},
   "outputs": [],
   "source": [
    "libpysal.examples.explain('nat')"
   ]
  },
  {
   "cell_type": "code",
   "execution_count": null,
   "metadata": {},
   "outputs": [],
   "source": [
    "libpysal.examples.explain('baltim')"
   ]
  },
  {
   "cell_type": "code",
   "execution_count": null,
   "metadata": {},
   "outputs": [],
   "source": [
    "libpysal.examples.data_sets"
   ]
  },
  {
   "cell_type": "code",
   "execution_count": null,
   "metadata": {},
   "outputs": [],
   "source": [
    "libpysal.examples.explain('sids2')"
   ]
  },
  {
   "cell_type": "code",
   "execution_count": null,
   "metadata": {},
   "outputs": [],
   "source": [
    "libpysal.examples.get_path('sids2.gal')"
   ]
  },
  {
   "cell_type": "code",
   "execution_count": null,
   "metadata": {},
   "outputs": [],
   "source": [
    "libpysal.examples.explain('nat')"
   ]
  },
  {
   "cell_type": "code",
   "execution_count": null,
   "metadata": {},
   "outputs": [],
   "source": [
    "sids2 = libpysal.examples.data_sets['sids2']"
   ]
  },
  {
   "cell_type": "code",
   "execution_count": null,
   "metadata": {},
   "outputs": [],
   "source": [
    "dir(sids2)"
   ]
  },
  {
   "cell_type": "code",
   "execution_count": null,
   "metadata": {},
   "outputs": [],
   "source": [
    "sids2.path"
   ]
  },
  {
   "cell_type": "code",
   "execution_count": null,
   "metadata": {},
   "outputs": [],
   "source": []
  },
  {
   "cell_type": "code",
   "execution_count": null,
   "metadata": {},
   "outputs": [],
   "source": [
    "from libpysal.examples import south"
   ]
  },
  {
   "cell_type": "code",
   "execution_count": null,
   "metadata": {},
   "outputs": [],
   "source": [
    "sd = south.fetch_south()"
   ]
  },
  {
   "cell_type": "code",
   "execution_count": null,
   "metadata": {},
   "outputs": [],
   "source": [
    "from libpysal.examples import guerry"
   ]
  },
  {
   "cell_type": "code",
   "execution_count": null,
   "metadata": {},
   "outputs": [],
   "source": [
    "guerry.fetch_guerry()"
   ]
  },
  {
   "cell_type": "code",
   "execution_count": null,
   "metadata": {},
   "outputs": [],
   "source": []
  }
 ],
 "metadata": {
  "kernelspec": {
   "display_name": "Python 3",
   "language": "python",
   "name": "python3"
  },
  "language_info": {
   "codemirror_mode": {
    "name": "ipython",
    "version": 3
   },
   "file_extension": ".py",
   "mimetype": "text/x-python",
   "name": "python",
   "nbconvert_exporter": "python",
   "pygments_lexer": "ipython3",
   "version": "3.7.3"
  }
 },
 "nbformat": 4,
 "nbformat_minor": 2
}

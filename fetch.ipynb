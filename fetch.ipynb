{
 "cells": [
  {
   "cell_type": "code",
   "execution_count": 1,
   "metadata": {},
   "outputs": [],
   "source": [
    "import libpysal\n",
    "\n"
   ]
  },
  {
   "cell_type": "code",
   "execution_count": 2,
   "metadata": {},
   "outputs": [],
   "source": [
    "from libpysal.examples import nat"
   ]
  },
  {
   "cell_type": "code",
   "execution_count": 3,
   "metadata": {},
   "outputs": [
    {
     "name": "stdout",
     "output_type": "stream",
     "text": [
      "already exists, not downloading\n"
     ]
    }
   ],
   "source": [
    "nat.fetch_nat()"
   ]
  },
  {
   "cell_type": "markdown",
   "metadata": {},
   "source": [
    "## Now try again"
   ]
  },
  {
   "cell_type": "code",
   "execution_count": 4,
   "metadata": {},
   "outputs": [
    {
     "name": "stdout",
     "output_type": "stream",
     "text": [
      "already exists, not downloading\n"
     ]
    }
   ],
   "source": [
    "nat.fetch_nat()"
   ]
  },
  {
   "cell_type": "code",
   "execution_count": 5,
   "metadata": {},
   "outputs": [],
   "source": [
    "from os import environ"
   ]
  },
  {
   "cell_type": "code",
   "execution_count": 6,
   "metadata": {},
   "outputs": [
    {
     "data": {
      "text/plain": [
       "'/home/jovyan/pysal_data'"
      ]
     },
     "execution_count": 6,
     "metadata": {},
     "output_type": "execute_result"
    }
   ],
   "source": [
    "environ.get(\"PYSALDATA\")"
   ]
  },
  {
   "cell_type": "code",
   "execution_count": 7,
   "metadata": {},
   "outputs": [],
   "source": [
    "from libpysal.examples import south"
   ]
  },
  {
   "cell_type": "code",
   "execution_count": 8,
   "metadata": {},
   "outputs": [
    {
     "name": "stdout",
     "output_type": "stream",
     "text": [
      "already exists, not downloading\n"
     ]
    }
   ],
   "source": [
    "sd = south.fetch_south()"
   ]
  },
  {
   "cell_type": "code",
   "execution_count": 9,
   "metadata": {},
   "outputs": [],
   "source": [
    "from libpysal.examples import guerry"
   ]
  },
  {
   "cell_type": "code",
   "execution_count": 10,
   "metadata": {},
   "outputs": [
    {
     "name": "stdout",
     "output_type": "stream",
     "text": [
      "already exists, not downloading\n"
     ]
    }
   ],
   "source": [
    "guerry.fetch_guerry()"
   ]
  },
  {
   "cell_type": "code",
   "execution_count": 11,
   "metadata": {},
   "outputs": [
    {
     "data": {
      "text/plain": [
       "[{'south': 'Homicides and selected socio-economic characteristics for Southern U.S. counties.',\n",
       "  'guerry': 'Andre-Michel Guerry data on \"moral statistics\" 1930',\n",
       "  'nat': 'US county homicides 1960-1990',\n",
       "  'wmat': 'Datasets used for spatial weights testing',\n",
       "  'stl': 'Homicides and selected socio-economic characteristics for counties surrounding St Louis, MO. Data aggregated for three time periods: 1979-84 (steady decline in homicides), 1984-88 (stable period), and 1988-93 (steady increase in homicides).',\n",
       "  'taz': 'Dataset used for regionalization',\n",
       "  'tokyo': None,\n",
       "  'georgia': None,\n",
       "  'nyc_bikes': None,\n",
       "  'calemp': 'Employment density for California counties',\n",
       "  'snow_maps': \"Public water pumps and Cholera deaths in London 1954 (Snow's Map)\",\n",
       "  'tests': None,\n",
       "  'networks': 'Datasets used for network testing',\n",
       "  '10740': 'Albuquerque, New Mexico, Census 2000 Tract Data',\n",
       "  'Polygon': 'Polygon Shapefile',\n",
       "  'book': 'Synthetic data to illustrate spatial weights ',\n",
       "  'desmith': \"Small dataset to illustrate Moran's I statistic\",\n",
       "  'virginia': 'Virginia counties shapefile',\n",
       "  'chicago': 'Chicago neighborhoods',\n",
       "  'berlin': None,\n",
       "  'street_net_pts': 'Street network points',\n",
       "  'burkitt': \"Burkitt's lymphoma in the Western Nile district of Uganda\",\n",
       "  'Polygon_Holes': None,\n",
       "  'columbus': 'Columbus neighborhood crime data 1980',\n",
       "  'mexico': 'Decennial per capita incomes of Mexican states 1940-2000',\n",
       "  'newHaven': 'New Haven crime dataset Sept 2014',\n",
       "  'baltim': 'Baltimore house sales prices and hedonics 1978',\n",
       "  'Point': 'Point Shapefile',\n",
       "  'clearwater': None,\n",
       "  'arcgis': 'arcgis testing files',\n",
       "  '__pycache__': None,\n",
       "  'sacramento2': '2000 Census Tract Data for Sacramento MSA',\n",
       "  'Line': 'Line Shapefile',\n",
       "  'juvenile': 'Residences of juvenile offenders in Cardiff, UK',\n",
       "  'us_income': 'Per-capita income for the lower 48 US states 1929-2009',\n",
       "  'geodanet': 'Datasets from geodanet for network analysis',\n",
       "  'sids2': 'North Carolina county SIDS death counts and rates',\n",
       "  'Rio_Grande_do_Sul': 'Cities of the Brazilian State of Rio Grande do Sul'}]"
      ]
     },
     "execution_count": 11,
     "metadata": {},
     "output_type": "execute_result"
    }
   ],
   "source": [
    "libpysal.examples.available()"
   ]
  },
  {
   "cell_type": "code",
   "execution_count": 12,
   "metadata": {},
   "outputs": [
    {
     "name": "stdout",
     "output_type": "stream",
     "text": [
      "\n",
      "south\n",
      "=====\n",
      "\n",
      "Homicides and selected socio-economic characteristics for Southern U.S. counties.\n",
      "---------------------------------------------------------------------------------\n",
      "\n",
      "* south.dbf: attribute data. (k=69)\n",
      "* south.shp: Polygon shapefile. (n=1412)\n",
      "* south.shx: spatial index.\n",
      "* south_q.gal: queen contiguity weights in GAL format.\n",
      "* south_queen.gal: queen contiguity weights in GAL format.\n",
      "\n",
      "\n"
     ]
    }
   ],
   "source": [
    "libpysal.examples.explain('south')"
   ]
  },
  {
   "cell_type": "code",
   "execution_count": 13,
   "metadata": {},
   "outputs": [
    {
     "data": {
      "text/plain": [
       "'/home/jovyan/pysal_data/south/south.shp'"
      ]
     },
     "execution_count": 13,
     "metadata": {},
     "output_type": "execute_result"
    }
   ],
   "source": [
    "libpysal.examples.get_path('south.shp')"
   ]
  },
  {
   "cell_type": "code",
   "execution_count": 19,
   "metadata": {},
   "outputs": [
    {
     "name": "stdout",
     "output_type": "stream",
     "text": [
      "missing.shp not found.\n"
     ]
    }
   ],
   "source": [
    "libpysal.examples.get_path('missing.shp')"
   ]
  },
  {
   "cell_type": "code",
   "execution_count": 14,
   "metadata": {},
   "outputs": [],
   "source": [
    "pth = libpysal.examples.get_path('south.shp')"
   ]
  },
  {
   "cell_type": "code",
   "execution_count": 15,
   "metadata": {},
   "outputs": [
    {
     "data": {
      "text/plain": [
       "'/home/jovyan/pysal_data/south/south.shp'"
      ]
     },
     "execution_count": 15,
     "metadata": {},
     "output_type": "execute_result"
    }
   ],
   "source": [
    "pth"
   ]
  },
  {
   "cell_type": "code",
   "execution_count": 16,
   "metadata": {},
   "outputs": [],
   "source": [
    "import geopandas as gpd"
   ]
  },
  {
   "cell_type": "code",
   "execution_count": 17,
   "metadata": {},
   "outputs": [],
   "source": [
    "df = gpd.read_file(pth)"
   ]
  },
  {
   "cell_type": "code",
   "execution_count": 18,
   "metadata": {},
   "outputs": [
    {
     "data": {
      "text/html": [
       "<div>\n",
       "<style scoped>\n",
       "    .dataframe tbody tr th:only-of-type {\n",
       "        vertical-align: middle;\n",
       "    }\n",
       "\n",
       "    .dataframe tbody tr th {\n",
       "        vertical-align: top;\n",
       "    }\n",
       "\n",
       "    .dataframe thead th {\n",
       "        text-align: right;\n",
       "    }\n",
       "</style>\n",
       "<table border=\"1\" class=\"dataframe\">\n",
       "  <thead>\n",
       "    <tr style=\"text-align: right;\">\n",
       "      <th></th>\n",
       "      <th>NAME</th>\n",
       "      <th>STATE_NAME</th>\n",
       "      <th>STATE_FIPS</th>\n",
       "      <th>CNTY_FIPS</th>\n",
       "      <th>FIPS</th>\n",
       "      <th>STFIPS</th>\n",
       "      <th>COFIPS</th>\n",
       "      <th>FIPSNO</th>\n",
       "      <th>SOUTH</th>\n",
       "      <th>HR60</th>\n",
       "      <th>...</th>\n",
       "      <th>BLK90</th>\n",
       "      <th>GI59</th>\n",
       "      <th>GI69</th>\n",
       "      <th>GI79</th>\n",
       "      <th>GI89</th>\n",
       "      <th>FH60</th>\n",
       "      <th>FH70</th>\n",
       "      <th>FH80</th>\n",
       "      <th>FH90</th>\n",
       "      <th>geometry</th>\n",
       "    </tr>\n",
       "  </thead>\n",
       "  <tbody>\n",
       "    <tr>\n",
       "      <th>0</th>\n",
       "      <td>Hancock</td>\n",
       "      <td>West Virginia</td>\n",
       "      <td>54</td>\n",
       "      <td>029</td>\n",
       "      <td>54029</td>\n",
       "      <td>54</td>\n",
       "      <td>29</td>\n",
       "      <td>54029</td>\n",
       "      <td>1</td>\n",
       "      <td>1.682864</td>\n",
       "      <td>...</td>\n",
       "      <td>2.557262</td>\n",
       "      <td>0.223645</td>\n",
       "      <td>0.295377</td>\n",
       "      <td>0.332251</td>\n",
       "      <td>0.363934</td>\n",
       "      <td>9.981297</td>\n",
       "      <td>7.8</td>\n",
       "      <td>9.785797</td>\n",
       "      <td>12.604552</td>\n",
       "      <td>POLYGON ((-80.6280517578125 40.39815902709961,...</td>\n",
       "    </tr>\n",
       "    <tr>\n",
       "      <th>1</th>\n",
       "      <td>Brooke</td>\n",
       "      <td>West Virginia</td>\n",
       "      <td>54</td>\n",
       "      <td>009</td>\n",
       "      <td>54009</td>\n",
       "      <td>54</td>\n",
       "      <td>9</td>\n",
       "      <td>54009</td>\n",
       "      <td>1</td>\n",
       "      <td>4.607233</td>\n",
       "      <td>...</td>\n",
       "      <td>0.748370</td>\n",
       "      <td>0.220407</td>\n",
       "      <td>0.318453</td>\n",
       "      <td>0.314165</td>\n",
       "      <td>0.350569</td>\n",
       "      <td>10.929337</td>\n",
       "      <td>8.0</td>\n",
       "      <td>10.214990</td>\n",
       "      <td>11.242293</td>\n",
       "      <td>POLYGON ((-80.52625274658203 40.16244888305664...</td>\n",
       "    </tr>\n",
       "    <tr>\n",
       "      <th>2</th>\n",
       "      <td>Ohio</td>\n",
       "      <td>West Virginia</td>\n",
       "      <td>54</td>\n",
       "      <td>069</td>\n",
       "      <td>54069</td>\n",
       "      <td>54</td>\n",
       "      <td>69</td>\n",
       "      <td>54069</td>\n",
       "      <td>1</td>\n",
       "      <td>0.974132</td>\n",
       "      <td>...</td>\n",
       "      <td>3.310334</td>\n",
       "      <td>0.272398</td>\n",
       "      <td>0.358454</td>\n",
       "      <td>0.376963</td>\n",
       "      <td>0.390534</td>\n",
       "      <td>15.621643</td>\n",
       "      <td>12.9</td>\n",
       "      <td>14.716681</td>\n",
       "      <td>17.574021</td>\n",
       "      <td>POLYGON ((-80.52516937255859 40.02275085449219...</td>\n",
       "    </tr>\n",
       "    <tr>\n",
       "      <th>3</th>\n",
       "      <td>Marshall</td>\n",
       "      <td>West Virginia</td>\n",
       "      <td>54</td>\n",
       "      <td>051</td>\n",
       "      <td>54051</td>\n",
       "      <td>54</td>\n",
       "      <td>51</td>\n",
       "      <td>54051</td>\n",
       "      <td>1</td>\n",
       "      <td>0.876248</td>\n",
       "      <td>...</td>\n",
       "      <td>0.546097</td>\n",
       "      <td>0.227647</td>\n",
       "      <td>0.319580</td>\n",
       "      <td>0.320953</td>\n",
       "      <td>0.377346</td>\n",
       "      <td>11.962834</td>\n",
       "      <td>8.8</td>\n",
       "      <td>8.803253</td>\n",
       "      <td>13.564159</td>\n",
       "      <td>POLYGON ((-80.52446746826172 39.72112655639648...</td>\n",
       "    </tr>\n",
       "    <tr>\n",
       "      <th>4</th>\n",
       "      <td>New Castle</td>\n",
       "      <td>Delaware</td>\n",
       "      <td>10</td>\n",
       "      <td>003</td>\n",
       "      <td>10003</td>\n",
       "      <td>10</td>\n",
       "      <td>3</td>\n",
       "      <td>10003</td>\n",
       "      <td>1</td>\n",
       "      <td>4.228385</td>\n",
       "      <td>...</td>\n",
       "      <td>16.480294</td>\n",
       "      <td>0.256106</td>\n",
       "      <td>0.329678</td>\n",
       "      <td>0.365830</td>\n",
       "      <td>0.332703</td>\n",
       "      <td>12.035714</td>\n",
       "      <td>10.7</td>\n",
       "      <td>15.169480</td>\n",
       "      <td>16.380903</td>\n",
       "      <td>POLYGON ((-75.77269744873047 39.38300704956055...</td>\n",
       "    </tr>\n",
       "  </tbody>\n",
       "</table>\n",
       "<p>5 rows × 70 columns</p>\n",
       "</div>"
      ],
      "text/plain": [
       "         NAME     STATE_NAME STATE_FIPS CNTY_FIPS   FIPS  STFIPS  COFIPS  \\\n",
       "0     Hancock  West Virginia         54       029  54029      54      29   \n",
       "1      Brooke  West Virginia         54       009  54009      54       9   \n",
       "2        Ohio  West Virginia         54       069  54069      54      69   \n",
       "3    Marshall  West Virginia         54       051  54051      54      51   \n",
       "4  New Castle       Delaware         10       003  10003      10       3   \n",
       "\n",
       "   FIPSNO  SOUTH      HR60  ...      BLK90      GI59      GI69      GI79  \\\n",
       "0   54029      1  1.682864  ...   2.557262  0.223645  0.295377  0.332251   \n",
       "1   54009      1  4.607233  ...   0.748370  0.220407  0.318453  0.314165   \n",
       "2   54069      1  0.974132  ...   3.310334  0.272398  0.358454  0.376963   \n",
       "3   54051      1  0.876248  ...   0.546097  0.227647  0.319580  0.320953   \n",
       "4   10003      1  4.228385  ...  16.480294  0.256106  0.329678  0.365830   \n",
       "\n",
       "       GI89       FH60  FH70       FH80       FH90  \\\n",
       "0  0.363934   9.981297   7.8   9.785797  12.604552   \n",
       "1  0.350569  10.929337   8.0  10.214990  11.242293   \n",
       "2  0.390534  15.621643  12.9  14.716681  17.574021   \n",
       "3  0.377346  11.962834   8.8   8.803253  13.564159   \n",
       "4  0.332703  12.035714  10.7  15.169480  16.380903   \n",
       "\n",
       "                                            geometry  \n",
       "0  POLYGON ((-80.6280517578125 40.39815902709961,...  \n",
       "1  POLYGON ((-80.52625274658203 40.16244888305664...  \n",
       "2  POLYGON ((-80.52516937255859 40.02275085449219...  \n",
       "3  POLYGON ((-80.52446746826172 39.72112655639648...  \n",
       "4  POLYGON ((-75.77269744873047 39.38300704956055...  \n",
       "\n",
       "[5 rows x 70 columns]"
      ]
     },
     "execution_count": 18,
     "metadata": {},
     "output_type": "execute_result"
    }
   ],
   "source": [
    "df.head()"
   ]
  },
  {
   "cell_type": "code",
   "execution_count": null,
   "metadata": {},
   "outputs": [],
   "source": []
  }
 ],
 "metadata": {
  "kernelspec": {
   "display_name": "Python 3",
   "language": "python",
   "name": "python3"
  },
  "language_info": {
   "codemirror_mode": {
    "name": "ipython",
    "version": 3
   },
   "file_extension": ".py",
   "mimetype": "text/x-python",
   "name": "python",
   "nbconvert_exporter": "python",
   "pygments_lexer": "ipython3",
   "version": "3.7.3"
  }
 },
 "nbformat": 4,
 "nbformat_minor": 2
}

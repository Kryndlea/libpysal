{
 "cells": [
  {
   "cell_type": "code",
   "execution_count": 1,
   "metadata": {},
   "outputs": [
    {
     "name": "stdout",
     "output_type": "stream",
     "text": [
      "/home/jovyan/libpysal/examples/stl\n",
      "/home/jovyan/libpysal/examples/wmat\n",
      "/home/jovyan/libpysal/examples/book\n",
      "/home/jovyan/libpysal/examples/chicago\n",
      "/home/jovyan/libpysal/examples/Polygon\n",
      "/home/jovyan/libpysal/examples/newHaven\n",
      "/home/jovyan/libpysal/examples/juvenile\n",
      "/home/jovyan/libpysal/examples/burkitt\n",
      "/home/jovyan/libpysal/examples/taz\n",
      "/home/jovyan/libpysal/examples/nyc_bikes\n",
      "/home/jovyan/libpysal/examples/georgia\n",
      "/home/jovyan/libpysal/examples/berlin\n",
      "/home/jovyan/libpysal/examples/mexico\n",
      "/home/jovyan/libpysal/examples/guerry\n",
      "/home/jovyan/libpysal/examples/networks\n",
      "/home/jovyan/libpysal/examples/sids2\n",
      "/home/jovyan/libpysal/examples/baltim\n",
      "/home/jovyan/libpysal/examples/Polygon_Holes\n",
      "/home/jovyan/libpysal/examples/geodanet\n",
      "/home/jovyan/libpysal/examples/arcgis\n",
      "/home/jovyan/libpysal/examples/Point\n",
      "/home/jovyan/libpysal/examples/rio_grande_do_sul\n",
      "/home/jovyan/libpysal/examples/Line\n",
      "/home/jovyan/libpysal/examples/clearwater\n",
      "/home/jovyan/libpysal/examples/examples/__pycache__\n",
      "/home/jovyan/libpysal/examples/10740\n",
      "/home/jovyan/libpysal/examples/calemp\n",
      "/home/jovyan/libpysal/examples/south\n",
      "/home/jovyan/libpysal/examples/street_net_pts\n",
      "/home/jovyan/libpysal/examples/snow_maps\n",
      "/home/jovyan/libpysal/examples/sacramento2\n",
      "/home/jovyan/libpysal/examples/us_income\n",
      "/home/jovyan/libpysal/examples/__pycache__\n",
      "/home/jovyan/libpysal/examples/columbus\n",
      "/home/jovyan/libpysal/examples/tests/__pycache__\n",
      "/home/jovyan/libpysal/examples/tests\n",
      "/home/jovyan/libpysal/examples/tokyo\n",
      "/home/jovyan/libpysal/examples/desmith\n",
      "/home/jovyan/libpysal/examples/virginia\n"
     ]
    },
    {
     "data": {
      "text/plain": [
       "{'stl': {name:stl},\n",
       " 'wmat': {name:wmat},\n",
       " 'book': {name:book},\n",
       " 'chicago': {name:chicago},\n",
       " 'Polygon': {name:Polygon},\n",
       " 'newHaven': {name:newHaven},\n",
       " 'juvenile': {name:juvenile},\n",
       " 'burkitt': {name:burkitt},\n",
       " 'taz': {name:taz},\n",
       " 'nyc_bikes': {name:nyc_bikes},\n",
       " 'georgia': {name:georgia},\n",
       " 'berlin': {name:berlin},\n",
       " 'mexico': {name:mexico},\n",
       " 'guerry': {name:guerry},\n",
       " 'networks': {name:networks},\n",
       " 'sids2': {name:sids2},\n",
       " 'baltim': {name:baltim},\n",
       " 'Polygon_Holes': {name:Polygon_Holes},\n",
       " 'geodanet': {name:geodanet},\n",
       " 'arcgis': {name:arcgis},\n",
       " 'Point': {name:Point},\n",
       " 'rio_grande_do_sul': {name:rio_grande_do_sul},\n",
       " 'Line': {name:Line},\n",
       " 'clearwater': {name:clearwater},\n",
       " '__pycache__': {name:__pycache__},\n",
       " '10740': {name:10740},\n",
       " 'calemp': {name:calemp},\n",
       " 'south': {name:south},\n",
       " 'street_net_pts': {name:street_net_pts},\n",
       " 'snow_maps': {name:snow_maps},\n",
       " 'sacramento2': {name:sacramento2},\n",
       " 'us_income': {name:us_income},\n",
       " 'columbus': {name:columbus},\n",
       " 'tests': {name:tests},\n",
       " 'tokyo': {name:tokyo},\n",
       " 'desmith': {name:desmith},\n",
       " 'virginia': {name:virginia}}"
      ]
     },
     "execution_count": 1,
     "metadata": {},
     "output_type": "execute_result"
    }
   ],
   "source": [
    "import libpysal\n",
    "\n",
    "libpysal.examples.data_sets"
   ]
  },
  {
   "cell_type": "code",
   "execution_count": 2,
   "metadata": {},
   "outputs": [],
   "source": [
    "data_sets = libpysal.examples.data_sets"
   ]
  },
  {
   "cell_type": "code",
   "execution_count": 3,
   "metadata": {},
   "outputs": [],
   "source": [
    "baltim = data_sets['baltim']"
   ]
  },
  {
   "cell_type": "code",
   "execution_count": 4,
   "metadata": {},
   "outputs": [
    {
     "name": "stdout",
     "output_type": "stream",
     "text": [
      "baltim\n",
      "======\n",
      "\n",
      "Baltimore house sales prices and hedonics 1978\n",
      "----------------------------------------------------------------\n",
      "\n",
      "* baltim.dbf: attribute data. (k=17)\n",
      "* baltim.shp: Point shapefile. (n=211)\n",
      "* baltim.shx: spatial index.\n",
      "* baltim.tri.k12.kwt: kernel weights using a triangular kernel with 12 nearest neighbors in KWT format.\n",
      "* baltim_k4.gwt: nearest neighbor weights (4nn) in GWT format.\n",
      "* baltim_q.gal: queen contiguity weights in GAL format.\n",
      "* baltimore.geojson: spatial weights in geojson format.\n",
      "\n",
      "\n"
     ]
    }
   ],
   "source": [
    "print(baltim.description)"
   ]
  },
  {
   "cell_type": "code",
   "execution_count": 5,
   "metadata": {},
   "outputs": [
    {
     "name": "stdout",
     "output_type": "stream",
     "text": [
      "stl\n",
      "===\n",
      "\n",
      "Homicides and selected socio-economic characteristics for counties surrounding St Louis, MO. Data aggregated for three time periods: 1979-84 (steady decline in homicides), 1984-88 (stable period), and 1988-93 (steady increase in homicides).\n",
      "---------------------------------------------------------------------------\n",
      "\n",
      "* stl.gal: queen contiguity weights in GAL format.\n",
      "* stl_hom.csv: attribute data and WKT geometry.\n",
      "* stl_hom.dbf: attribute data. (k=22)\n",
      "* stl_hom.html: metadata.\n",
      "* stl_hom.shp: Polygon shapefile. (n=78)\n",
      "* stl_hom.shx: spatial index.\n",
      "* stl_hom.txt: selected attribute data.\n",
      "* stl_hom.wkt: a Well-Known-Text representation of the geometry.\n",
      "* stl_hom_rook.gal: rook contiguity weights in GAL format.\n",
      "\n",
      "Source: S. Messner, L. Anselin, D. Hawkins, G. Deane, S. Tolnay, R. Baller (2000). An Atlas of the Spatial Patterning of County-Level Homicide, 1960-1990. Pittsburgh, PA, [National Consortium on Violence Research (NCOVR)](http://www.ncovr.heinz.cmu.edu).\n",
      "\n",
      "No description.\n",
      "book\n",
      "====\n",
      "\n",
      "Synthetic data to illustrate spatial weights \n",
      "--------------------------------------------\n",
      "\n",
      "* book.gal: rook contiguity weights in GAL format for regular lattice.\n",
      "* book.txt: attribute data for regular lattice.\n",
      "\n",
      "Source: Anselin, L. and S.J. Rey (in progress) Spatial Econometrics: Foundations.\n",
      "\n",
      "chicago\n",
      "=======\n",
      "\n",
      "Chicago neighborhoods\n",
      "--------------------\n",
      "\n",
      "* Chicago77.dbf: attribute data. (k=11)\n",
      "* Chicago77.shp: Polygon shapefile. (n=77)\n",
      "* Chicago77.shx: spatial index.\n",
      "\n",
      "Polygon\n",
      "=======\n",
      "\n",
      "Polygon Shapefile\n",
      "-----------------\n",
      "\n",
      "* Polygon.dbf: attribute data. (k=3)\n",
      "* Polygon.prj: ESRI projection file.\n",
      "* Polygon.shp: Polygon shapefile. (n=3)\n",
      "* Polygon.shx: spatial index.\n",
      "\n",
      "Used for testing.\n",
      "\n",
      "newHaven\n",
      "========\n",
      "\n",
      "New Haven crime dataset Sept 2014\n",
      "---------------------------------\n",
      "\n",
      "* new_haven_merged.dbf: attribute data for New Haven crimes. (k=5)\n",
      "* new_haven_merged.shp: Point shapefile. (n=3293)\n",
      "* new_haven_merged.shx: spatial index.\n",
      "* newhaven_nework.dbf: attribute data for New Haven street network. (k=6)\n",
      "* newhaven_nework.prj: ESRI projection file.\n",
      "* newhaven_nework.qpj: QGIS projection file.\n",
      "* newhaven_nework.shp: Line shapefile. (n=1537)\n",
      "* newhaven_nework.shx: spatial index.\n",
      "\n",
      "No description.\n",
      "burkitt\n",
      "=======\n",
      "\n",
      "Burkitt's lymphoma in the Western Nile district of Uganda\n",
      "---------------------------------------------------------\n",
      "\n",
      "* burkitt.dbf: attribute data. (k=6)\n",
      "* burkitt.shp: Point shapefile. (n=188)\n",
      "* burkitt.shx: spatial index.\n",
      "\n",
      "No description.\n",
      "No description.\n",
      "No description.\n",
      "No description.\n",
      "No description.\n",
      "guerry\n",
      "======\n",
      "\n",
      "Andre-Michel Guerry data on \"moral statistics\" 1930\n",
      "---------------------------------------------------\n",
      "crime, suicide, literacy and other “moral statistics” in 1830s France\n",
      "\n",
      "* Guerry_documentation.html: metadata.\n",
      "* Guerry.dbf: attribute data. (k=23)\n",
      "* Guerry.geojson: shape and attribute data file in geoJSON format.\n",
      "* Guerry.prj: ESRI projection file.\n",
      "* Guerry.shp: Polygon shapefile. (n=85)\n",
      "* Guerry.shx: spatial index.\n",
      "\n",
      "Angeville, A. (1836). Essai sur la Statistique de la Population française Paris: F. Doufour. \n",
      "\n",
      "Guerry, A.-M. (1833). Essai sur la statistique morale de la France Paris: Crochard. English translation: Hugh P. Whitt and Victor W. Reinking, Lewiston, N.Y. : Edwin Mellen Press, 2002. \n",
      "\n",
      "Parent-Duchatelet, A. (1836). De la prostitution dans la ville de Paris, 3rd ed, 1857, p. 32, 36 \n",
      "No description.\n",
      "sids2\n",
      "=====\n",
      "\n",
      "North Carolina county SIDS death counts and rates\n",
      "-------------------------------------------------\n",
      "\n",
      "* sids2.dbf: attribute data. (k=18)\n",
      "* sids2.html: metadata.\n",
      "* sids2.shp: Polygon shapefile. (n=100)\n",
      "* sids2.shx: spatial index.\n",
      "* sids2.gal: spatial weights in GAL format.\n",
      "\n",
      "Source: http://geodacenter.org/downloads/data-files/sids2.zip\n",
      "\n",
      "baltim\n",
      "======\n",
      "\n",
      "Baltimore house sales prices and hedonics 1978\n",
      "----------------------------------------------------------------\n",
      "\n",
      "* baltim.dbf: attribute data. (k=17)\n",
      "* baltim.shp: Point shapefile. (n=211)\n",
      "* baltim.shx: spatial index.\n",
      "* baltim.tri.k12.kwt: kernel weights using a triangular kernel with 12 nearest neighbors in KWT format.\n",
      "* baltim_k4.gwt: nearest neighbor weights (4nn) in GWT format.\n",
      "* baltim_q.gal: queen contiguity weights in GAL format.\n",
      "* baltimore.geojson: spatial weights in geojson format.\n",
      "\n",
      "\n",
      "No description.\n",
      "No description.\n",
      "No description.\n",
      "Point\n",
      "=====\n",
      "\n",
      "Point Shapefile\n",
      "---------------\n",
      "\n",
      "* Point.dbf: attribute data. (k=3)\n",
      "* Point.prj: ESRI projection file.\n",
      "* Point.shp: Point shapefile. (n=9)\n",
      "* Point.shx: spatial index.\n",
      "\n",
      "Used for testing\n",
      "\n",
      "No description.\n",
      "Line\n",
      "=====\n",
      "\n",
      "Line Shapefile\n",
      "---------------\n",
      "\n",
      "* Line.dbf: attribute data. (k=3)\n",
      "* Line.prj: ESRI projection file. \n",
      "* Line.shp: Line shapefile. (n=4)\n",
      "* Line.shx: spatial index.\n",
      "\n",
      "Used for testing.\n",
      "\n",
      "No description.\n",
      "No description.\n",
      "No description.\n",
      "calemp\n",
      "======\n",
      "\n",
      "Employment density for California counties\n",
      "------------------------------------------\n",
      "\n",
      "* calempdensity.csv: data on employment and employment density in California\n",
      "  counties. (n=58, k=11)\n",
      "\n",
      "Source: Anselin, L. and S.J. Rey (in progress) Spatial Econometrics: Foundations.\n",
      "\n",
      "\n",
      "\n",
      "\n",
      "south\n",
      "=====\n",
      "\n",
      "Homicides and selected socio-economic characteristics for Southern U.S. counties (subset of NCOVR national data set). Data for four decennial census years: 1960, 1970, 1980, 1990.\n",
      "----------------------------------------------------------------------\n",
      "\n",
      "* south.dbf: attribute data. (k=69)\n",
      "* south.shp: Polygon shapefile. (n=1412)\n",
      "* south.shx: spatial index.\n",
      "* south_q.gal: queen contiguity weights in GAL format.\n",
      "* south_queen.gal: queen contiguity weights in GAL format.\n",
      "\n",
      "street_net_pts\n",
      "==============\n",
      "\n",
      "Street network points\n",
      "---------------------\n",
      "\n",
      "* street_net_pts.dbf: attribute data. (k=1)\n",
      "* street_net_pts.prj: ESRI projection file.\n",
      "* street_net_pts.qpj: QGIS projection file.\n",
      "* street_net_pts.shp: Point shapefile. (n=303)\n",
      "* street_net_pts.shx: spatial index.\n",
      "\n",
      "No description.\n",
      "sacramento2\n",
      "===========\n",
      "\n",
      "2000 Census Tract Data for Sacramento MSA\n",
      "-----------------------------------------\n",
      "\n",
      "* sacramentot2.dbf: attribute data. (k=31)\n",
      "* sacramentot2.gal: queen contiguity weights in GAL format.\n",
      "* sacramentot2.sbn: spatial index.\n",
      "* sacramentot2.sbx: spatial index.\n",
      "* sacramentot2.shp: Polygon shapefile. (n=403)\n",
      "* sacramentot2.shx: spatial index.\n",
      "\n",
      "Source: US Census Bureau, 2000 Census (Summary File 3). Extracted from http://factfinder.census.gov in April 2004.\n",
      "us_income\n",
      "=========\n",
      "\n",
      "Per-capita income for the lower 48 US states 1929-2009\n",
      "------------------------------------------------------\n",
      "\n",
      "* spi_download.csv: regional per capita income time series 1969-2008. (source:  Regional Economic Information System, Bureau of Economic Analysis, U.S. Department of Commerce) \n",
      "* states48.gal: contiguity weights in GAL format.\n",
      "* us48.dbf: attribute data. (k=8)\n",
      "* us48.shp: Polygon shapefile. (n=48) \n",
      "* us48.shx: spatial index.\n",
      "* usjoin.csv: 48 US states per capita income time series 1929-2009.\n",
      "\n",
      "No description.\n",
      "No description.\n",
      "No description.\n",
      "desmith\n",
      "=======\n",
      "\n",
      "Small dataset to illustrate Moran's I statistic\n",
      "-----------------------------------------------\n",
      "\n",
      "* desmith.gal: spatial weights in GAL format.\n",
      "* desmith.txt: attribute data. (n=10, k=2)\n",
      "\n",
      "Figure 5-31 of de Smith, Goodchild and Longley (2015)\n",
      "\n",
      "Source: <http://www.spatialanalysisonline.com/>\n",
      "\n",
      "Used with permission.\n",
      "\n",
      "No description.\n"
     ]
    }
   ],
   "source": [
    "for data_set in data_sets:\n",
    "    print(data_sets[data_set])"
   ]
  },
  {
   "cell_type": "code",
   "execution_count": 6,
   "metadata": {},
   "outputs": [],
   "source": [
    "from libpysal.examples import nat"
   ]
  },
  {
   "cell_type": "code",
   "execution_count": 7,
   "metadata": {},
   "outputs": [
    {
     "name": "stdout",
     "output_type": "stream",
     "text": [
      "already exists, not downloading\n"
     ]
    }
   ],
   "source": [
    "nat.fetch_nat()"
   ]
  },
  {
   "cell_type": "code",
   "execution_count": 8,
   "metadata": {},
   "outputs": [],
   "source": [
    "from libpysal.examples import DataSet"
   ]
  },
  {
   "cell_type": "code",
   "execution_count": 9,
   "metadata": {},
   "outputs": [
    {
     "data": {
      "text/plain": [
       "37"
      ]
     },
     "execution_count": 9,
     "metadata": {},
     "output_type": "execute_result"
    }
   ],
   "source": [
    "len(libpysal.examples.data_sets)"
   ]
  },
  {
   "cell_type": "code",
   "execution_count": 10,
   "metadata": {},
   "outputs": [],
   "source": [
    "nyc = DataSet('nyc')"
   ]
  },
  {
   "cell_type": "code",
   "execution_count": 11,
   "metadata": {},
   "outputs": [
    {
     "data": {
      "text/plain": [
       "38"
      ]
     },
     "execution_count": 11,
     "metadata": {},
     "output_type": "execute_result"
    }
   ],
   "source": [
    "len(libpysal.examples.data_sets)"
   ]
  },
  {
   "cell_type": "code",
   "execution_count": 12,
   "metadata": {},
   "outputs": [
    {
     "name": "stdout",
     "output_type": "stream",
     "text": [
      "No description.\n"
     ]
    }
   ],
   "source": [
    "print(nyc)"
   ]
  },
  {
   "cell_type": "markdown",
   "metadata": {},
   "source": [
    "## Now try again"
   ]
  },
  {
   "cell_type": "code",
   "execution_count": 13,
   "metadata": {},
   "outputs": [
    {
     "name": "stdout",
     "output_type": "stream",
     "text": [
      "already exists, not downloading\n"
     ]
    }
   ],
   "source": [
    "nat.fetch_nat()"
   ]
  },
  {
   "cell_type": "code",
   "execution_count": 14,
   "metadata": {},
   "outputs": [],
   "source": [
    "from os import environ"
   ]
  },
  {
   "cell_type": "code",
   "execution_count": 15,
   "metadata": {},
   "outputs": [
    {
     "data": {
      "text/plain": [
       "'/home/jovyan/.local/pysal_data'"
      ]
     },
     "execution_count": 15,
     "metadata": {},
     "output_type": "execute_result"
    }
   ],
   "source": [
    "environ.get(\"PYSALDATA\")"
   ]
  },
  {
   "cell_type": "code",
   "execution_count": 16,
   "metadata": {},
   "outputs": [],
   "source": [
    "nat = DataSet('nat')"
   ]
  },
  {
   "cell_type": "code",
   "execution_count": 17,
   "metadata": {},
   "outputs": [
    {
     "name": "stdout",
     "output_type": "stream",
     "text": [
      "No description.\n"
     ]
    }
   ],
   "source": [
    "libpysal.examples.explain('nat')"
   ]
  },
  {
   "cell_type": "code",
   "execution_count": 18,
   "metadata": {},
   "outputs": [
    {
     "name": "stdout",
     "output_type": "stream",
     "text": [
      "baltim\n",
      "======\n",
      "\n",
      "Baltimore house sales prices and hedonics 1978\n",
      "----------------------------------------------------------------\n",
      "\n",
      "* baltim.dbf: attribute data. (k=17)\n",
      "* baltim.shp: Point shapefile. (n=211)\n",
      "* baltim.shx: spatial index.\n",
      "* baltim.tri.k12.kwt: kernel weights using a triangular kernel with 12 nearest neighbors in KWT format.\n",
      "* baltim_k4.gwt: nearest neighbor weights (4nn) in GWT format.\n",
      "* baltim_q.gal: queen contiguity weights in GAL format.\n",
      "* baltimore.geojson: spatial weights in geojson format.\n",
      "\n",
      "\n"
     ]
    }
   ],
   "source": [
    "libpysal.examples.explain('baltim')"
   ]
  },
  {
   "cell_type": "code",
   "execution_count": 19,
   "metadata": {},
   "outputs": [
    {
     "data": {
      "text/plain": [
       "{'stl': {name:stl},\n",
       " 'wmat': {name:wmat},\n",
       " 'book': {name:book},\n",
       " 'chicago': {name:chicago},\n",
       " 'Polygon': {name:Polygon},\n",
       " 'newHaven': {name:newHaven},\n",
       " 'juvenile': {name:juvenile},\n",
       " 'burkitt': {name:burkitt},\n",
       " 'taz': {name:taz},\n",
       " 'nyc_bikes': {name:nyc_bikes},\n",
       " 'georgia': {name:georgia},\n",
       " 'berlin': {name:berlin},\n",
       " 'mexico': {name:mexico},\n",
       " 'guerry': {name:guerry},\n",
       " 'networks': {name:networks},\n",
       " 'sids2': {name:sids2},\n",
       " 'baltim': {name:baltim},\n",
       " 'Polygon_Holes': {name:Polygon_Holes},\n",
       " 'geodanet': {name:geodanet},\n",
       " 'arcgis': {name:arcgis},\n",
       " 'Point': {name:Point},\n",
       " 'rio_grande_do_sul': {name:rio_grande_do_sul},\n",
       " 'Line': {name:Line},\n",
       " 'clearwater': {name:clearwater},\n",
       " '__pycache__': {name:__pycache__},\n",
       " '10740': {name:10740},\n",
       " 'calemp': {name:calemp},\n",
       " 'south': {name:south},\n",
       " 'street_net_pts': {name:street_net_pts},\n",
       " 'snow_maps': {name:snow_maps},\n",
       " 'sacramento2': {name:sacramento2},\n",
       " 'us_income': {name:us_income},\n",
       " 'columbus': {name:columbus},\n",
       " 'tests': {name:tests},\n",
       " 'tokyo': {name:tokyo},\n",
       " 'desmith': {name:desmith},\n",
       " 'virginia': {name:virginia},\n",
       " 'nyc': {name:nyc},\n",
       " 'nat': {name:nat}}"
      ]
     },
     "execution_count": 19,
     "metadata": {},
     "output_type": "execute_result"
    }
   ],
   "source": [
    "libpysal.examples.data_sets"
   ]
  },
  {
   "cell_type": "code",
   "execution_count": 20,
   "metadata": {},
   "outputs": [
    {
     "name": "stdout",
     "output_type": "stream",
     "text": [
      "sids2\n",
      "=====\n",
      "\n",
      "North Carolina county SIDS death counts and rates\n",
      "-------------------------------------------------\n",
      "\n",
      "* sids2.dbf: attribute data. (k=18)\n",
      "* sids2.html: metadata.\n",
      "* sids2.shp: Polygon shapefile. (n=100)\n",
      "* sids2.shx: spatial index.\n",
      "* sids2.gal: spatial weights in GAL format.\n",
      "\n",
      "Source: http://geodacenter.org/downloads/data-files/sids2.zip\n",
      "\n"
     ]
    }
   ],
   "source": [
    "libpysal.examples.explain('sids2')"
   ]
  },
  {
   "cell_type": "code",
   "execution_count": 21,
   "metadata": {},
   "outputs": [
    {
     "data": {
      "text/plain": [
       "'/home/jovyan/libpysal/examples/sids2/sids2.gal'"
      ]
     },
     "execution_count": 21,
     "metadata": {},
     "output_type": "execute_result"
    }
   ],
   "source": [
    "libpysal.examples.get_path('sids2.gal')"
   ]
  },
  {
   "cell_type": "code",
   "execution_count": 22,
   "metadata": {},
   "outputs": [
    {
     "name": "stdout",
     "output_type": "stream",
     "text": [
      "No description.\n"
     ]
    }
   ],
   "source": [
    "libpysal.examples.explain('nat')"
   ]
  },
  {
   "cell_type": "code",
   "execution_count": 23,
   "metadata": {},
   "outputs": [],
   "source": [
    "sids2 = libpysal.examples.data_sets['sids2']"
   ]
  },
  {
   "cell_type": "code",
   "execution_count": 24,
   "metadata": {},
   "outputs": [
    {
     "data": {
      "text/plain": [
       "['_DataSet__register',\n",
       " '__class__',\n",
       " '__delattr__',\n",
       " '__dict__',\n",
       " '__dir__',\n",
       " '__doc__',\n",
       " '__eq__',\n",
       " '__format__',\n",
       " '__ge__',\n",
       " '__getattribute__',\n",
       " '__gt__',\n",
       " '__hash__',\n",
       " '__init__',\n",
       " '__init_subclass__',\n",
       " '__le__',\n",
       " '__lt__',\n",
       " '__module__',\n",
       " '__ne__',\n",
       " '__new__',\n",
       " '__reduce__',\n",
       " '__reduce_ex__',\n",
       " '__repr__',\n",
       " '__setattr__',\n",
       " '__sizeof__',\n",
       " '__str__',\n",
       " '__subclasshook__',\n",
       " '__weakref__',\n",
       " 'description',\n",
       " 'fetch',\n",
       " 'name',\n",
       " 'path']"
      ]
     },
     "execution_count": 24,
     "metadata": {},
     "output_type": "execute_result"
    }
   ],
   "source": [
    "dir(sids2)"
   ]
  },
  {
   "cell_type": "code",
   "execution_count": 25,
   "metadata": {},
   "outputs": [
    {
     "data": {
      "text/plain": [
       "'/home/jovyan/libpysal/examples/sids2'"
      ]
     },
     "execution_count": 25,
     "metadata": {},
     "output_type": "execute_result"
    }
   ],
   "source": [
    "sids2.path"
   ]
  },
  {
   "cell_type": "code",
   "execution_count": null,
   "metadata": {},
   "outputs": [],
   "source": []
  }
 ],
 "metadata": {
  "kernelspec": {
   "display_name": "Python 3",
   "language": "python",
   "name": "python3"
  },
  "language_info": {
   "codemirror_mode": {
    "name": "ipython",
    "version": 3
   },
   "file_extension": ".py",
   "mimetype": "text/x-python",
   "name": "python",
   "nbconvert_exporter": "python",
   "pygments_lexer": "ipython3",
   "version": "3.7.3"
  }
 },
 "nbformat": 4,
 "nbformat_minor": 2
}

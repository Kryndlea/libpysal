{
 "cells": [
  {
   "cell_type": "code",
   "execution_count": 2,
   "id": "educated-flood",
   "metadata": {},
   "outputs": [],
   "source": [
    "from time import time\n",
    "import spreg, libpysal"
   ]
  },
  {
   "cell_type": "code",
   "execution_count": null,
   "id": "synthetic-pierce",
   "metadata": {},
   "outputs": [],
   "source": [
    "def w_workbench(w, y, x, c, reps=1):\n",
    "    # Spreg #\n",
    "    m1 = spreg.GM_Combo_Het(y, x, w)\n",
    "    m2 = spreg.ML_Lag(y, x, w)\n",
    "    # Lags #\n",
    "    ls = libpysal.weights.lag_spatial(w, y)\n",
    "    lc = libpysal.weights.lag_categorical(w, c)\n",
    "    # Neighbor query #\n",
    "    nq = neighbor_query(w)\n",
    "    # Components\n",
    "    components = w.component_labels\n",
    "\n",
    "def neighbor_query(w):\n",
    "    d = {}\n",
    "    for i in range(w.n):\n",
    "        d[i] = w.neighbors[i]\n",
    "    return d"
   ]
  }
 ],
 "metadata": {
  "kernelspec": {
   "display_name": "Python 3",
   "language": "python",
   "name": "python3"
  },
  "language_info": {
   "codemirror_mode": {
    "name": "ipython",
    "version": 3
   },
   "file_extension": ".py",
   "mimetype": "text/x-python",
   "name": "python",
   "nbconvert_exporter": "python",
   "pygments_lexer": "ipython3",
   "version": "3.8.8"
  }
 },
 "nbformat": 4,
 "nbformat_minor": 5
}

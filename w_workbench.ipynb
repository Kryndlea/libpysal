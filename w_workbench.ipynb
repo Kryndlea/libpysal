{
 "cells": [
  {
   "cell_type": "code",
   "execution_count": 2,
   "id": "incoming-bishop",
   "metadata": {},
   "outputs": [],
   "source": [
    "from time import time\n",
    "import spreg, libpysal\n",
    "import pandas as pd"
   ]
  },
  {
   "cell_type": "code",
   "execution_count": null,
   "id": "offensive-monte",
   "metadata": {},
   "outputs": [],
   "source": [
    "def w_workbench(w, y, x, c, reps=1):\n",
    "    timing = pd.DataFrame()\n",
    "    \n",
    "    for rep in range(reps):\n",
    "    \n",
    "        # Spreg #\n",
    "        s = time()\n",
    "        m1 = spreg.GM_Combo_Het(y, x, w)\n",
    "        timing.loc[\"GM_Combo_Het\", f\"time_{rep}\"] = time() - s\n",
    "\n",
    "        s = time()\n",
    "        m2 = spreg.ML_Lag(y, x, w)\n",
    "        timing.loc[\"ML_Lag\", f\"time_{rep}\"] = time() - s\n",
    "\n",
    "        # Lags\n",
    "        s = time()\n",
    "        ls = libpysal.weights.lag_spatial(w, y)\n",
    "        timing.loc[\"lag_spatial\", f\"time_{rep}\"] = time() - s\n",
    "\n",
    "        s = time()\n",
    "        lc = libpysal.weights.lag_categorical(w, c)\n",
    "        timing.loc[\"lag_categorical\", f\"time_{rep}\"] = time() - s\n",
    "\n",
    "        # Neighbor query #\n",
    "        s = time()\n",
    "        nq = neighbor_query(w)\n",
    "        timing.loc[\"neighbor_query\", f\"time_{rep}\"] = time() - s\n",
    "\n",
    "        # Components\n",
    "        s = time()\n",
    "        components = w.component_labels\n",
    "        timing.loc[\"components\", f\"time_{rep}\"] = time() - s\n",
    "\n",
    "        # Higher order (exclusive and inclusive)\n",
    "        s = time()\n",
    "        w10 = libpysal.weights.higher_order(w, k=10)\n",
    "        timing.loc[\"higher_order\", f\"time_{rep}\"] = time() - s\n",
    "        s = time()\n",
    "        w10inc = libpysal.weights.higher_order(w, k=10, lower_order=True)\n",
    "        timing.loc[\"higher_order_inclusive\", f\"time_{rep}\"] = time() - s\n",
    "        \n",
    "    timing['mean'] = timing.mean(axis=1)\n",
    "    timing['std'] = timing.iloc[:, :reps].std(axis=1)\n",
    "    \n",
    "    return {\n",
    "        \"timing\": timing,\n",
    "        \"m1\": m1,\n",
    "        \"m2\": m2,\n",
    "        \"ls\": ls,\n",
    "        \"lc\": lc,\n",
    "        \"nq\": nq,\n",
    "        \"components\": components,\n",
    "        \"w10\": w10\n",
    "        \"w10inc\": w10inc\n",
    "    }\n",
    "\n",
    "def neighbor_query(w):\n",
    "    d = {}\n",
    "    for i in range(w.n):\n",
    "        d[i] = w.neighbors[i]\n",
    "    return d"
   ]
  }
 ],
 "metadata": {
  "kernelspec": {
   "display_name": "Python 3",
   "language": "python",
   "name": "python3"
  },
  "language_info": {
   "codemirror_mode": {
    "name": "ipython",
    "version": 3
   },
   "file_extension": ".py",
   "mimetype": "text/x-python",
   "name": "python",
   "nbconvert_exporter": "python",
   "pygments_lexer": "ipython3",
   "version": "3.9.2"
  }
 },
 "nbformat": 4,
 "nbformat_minor": 5
}
